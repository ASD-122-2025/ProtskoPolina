{
 "cells": [
  {
   "cell_type": "markdown",
   "id": "3f14d458",
   "metadata": {},
   "source": [
    "# Звіт з лабораторної роботи №3"
   ]
  },
  {
   "cell_type": "markdown",
   "id": "84ced033",
   "metadata": {},
   "source": [
    "Виконала студентка групи КН-24-1 Процко П. П."
   ]
  },
  {
   "cell_type": "markdown",
   "id": "c224c878",
   "metadata": {},
   "source": [
    "Тема: Аналіз складності алгоритмів. Алгоритми сортування\n",
    "Мета: засвоїти аналіз складності алгоритмів за допомогою алгоритмів сортування методом вставок та бульбашковим методом."
   ]
  },
  {
   "cell_type": "markdown",
   "id": "7fa47d57",
   "metadata": {},
   "source": [
    "### Хід роботи"
   ]
  },
  {
   "cell_type": "markdown",
   "id": "24ada46e",
   "metadata": {},
   "source": [
    "1. Завантажити Python Anaconda та активувати віртуальне середовище, яке було створено під час виконання попередньої лабораторної роботи.\n",
    "\n",
    "2. Створити новий Notebook-документ `lab_3_StudentLastName.ipynb` за допомогою Jupyter Notebook."
   ]
  },
  {
   "cell_type": "markdown",
   "id": "2de84616",
   "metadata": {},
   "source": [
    "### Теоретичний аналіз алгоритмів сортування"
   ]
  },
  {
   "cell_type": "markdown",
   "id": "34b388bb",
   "metadata": {},
   "source": [
    "- **Метод вставок:** O(n²) у найгіршому випадку, O(n) у найкращому (відсортований масив).\n",
    "- **Метод бульбашки:** O(n²) у найгіршому випадку, O(n) у найкращому."
   ]
  },
  {
   "cell_type": "markdown",
   "id": "1305e5fd",
   "metadata": {},
   "source": [
    "### Реалізація алгоритмів сортування на Python"
   ]
  },
  {
   "cell_type": "code",
   "execution_count": null,
   "id": "f150fee6",
   "metadata": {},
   "outputs": [],
   "source": [
    "import time\n",
    "import numpy as np\n",
    "import matplotlib.pyplot as plt\n",
    "\n",
    "def insertion_sort(arr):\n",
    "    for i in range(1, len(arr)):\n",
    "        key = arr[i]\n",
    "        j = i - 1\n",
    "        while j >= 0 and arr[j] > key:\n",
    "            arr[j + 1] = arr[j]\n",
    "            j -= 1\n",
    "        arr[j + 1] = key\n",
    "\n",
    "def bubble_sort(arr):\n",
    "    n = len(arr)\n",
    "    for i in range(n):\n",
    "        swapped = False\n",
    "        for j in range(0, n - i - 1):\n",
    "            if arr[j] > arr[j + 1]:\n",
    "                arr[j], arr[j + 1] = arr[j + 1], arr[j]\n",
    "                swapped = True\n",
    "        if not swapped:\n",
    "            break\n",
    "\n",
    "def measure_time(sort_func, arr):\n",
    "    start_time = time.perf_counter()\n",
    "    sort_func(arr.copy())\n",
    "    return time.perf_counter() - start_time\n",
    "\n",
    "# Розміри масивів для тестування\n",
    "sizes = [5, 10, 50, 100, 500, 1000, 2000, 3000, 4000, 5000, 10000, 20000, 50000, 100000]\n",
    "\n",
    "# Логування часів виконання\n",
    "insertion_times = []\n",
    "bubble_times = []\n",
    "\n",
    "for size in sizes:\n",
    "    arr = np.random.randint(0, 10000, size)\n",
    "    insertion_times.append(measure_time(insertion_sort, arr))\n",
    "    bubble_times.append(measure_time(bubble_sort, arr))\n",
    "\n",
    "# Побудова графіка\n",
    "plt.figure(figsize=(10, 6))\n",
    "plt.plot(sizes, insertion_times, label='Insertion Sort', marker='o')\n",
    "plt.plot(sizes, bubble_times, label='Bubble Sort', marker='s')\n",
    "plt.xlabel('Розмір масиву n')\n",
    "plt.ylabel('Час виконання (секунди)')\n",
    "plt.title('Порівняння часу виконання сортувань')\n",
    "plt.legend()\n",
    "plt.grid(True)\n",
    "plt.show()"
   ]
  },
  {
   "cell_type": "markdown",
   "id": "2e4d22f8",
   "metadata": {},
   "source": [
    "### Графік часу виконання обох алгоритмів сортування"
   ]
  },
  {
   "cell_type": "markdown",
   "id": "22325d90",
   "metadata": {},
   "source": [
    "![Графік](Pictures/1.png)"
   ]
  },
  {
   "cell_type": "markdown",
   "id": "9a68932c",
   "metadata": {},
   "source": [
    "### Висновок"
   ]
  },
  {
   "cell_type": "markdown",
   "id": "ff641376",
   "metadata": {},
   "source": [
    "У результаті виконання лабораторної роботи були проаналізовані алгоритми сортування методом вставок та бульбашковим методом.\n",
    "Порівняно їх час виконання на різних розмірах масивів. Виявлено, що при великих обсягах даних метод бульбашки має значно більший час виконання, порівняно з методом вставок. Це підтверджує теоретичні висновки про складність алгоритмів."
   ]
  },
  {
   "cell_type": "markdown",
   "id": "5f163964",
   "metadata": {},
   "source": [
    "### Відповіді на контрольні питання"
   ]
  },
  {
   "cell_type": "markdown",
   "id": "e826c8c8",
   "metadata": {},
   "source": [
    "1. Що таке O-нотація і чим вона відрізняється від Ω-нотації?\n",
    "- O-нотація описує верхню межу зростання часу алгоритму (найгірший випадок).\n",
    "- Ω-нотація описує нижню межу зростання часу (найкращий випадок).\n",
    "2. Яку часову складність має алгоритм сортування методом вставляння за найсприятливіших умов?\n",
    "При відсортованому масиві алгоритм лише перевіряє елементи, без перестановок.\n",
    "- Кількість порівнянь: O(N).\n",
    "- Кількість перестановок: 0.\n",
    "- Загальна складність: O(N).\n",
    "3. Що таке ефективний алгоритм?\n",
    "Ефективний алгоритм – це алгоритм, який виконує задачу з мінімальними витратами ресурсів (часу та пам'яті).\n",
    "4. Пояснити поняття головного параметра (розміру) завдання.\n",
    "Головний параметр – це розмір вхідних даних, що впливає на продуктивність алгоритму.\n",
    "5. Як записати асимптотичну складність F(N) = N³ + 7N² - 14N у O-нотації?\n",
    "O(N³)"
   ]
  }
 ],
 "metadata": {
  "language_info": {
   "name": "python"
  }
 },
 "nbformat": 4,
 "nbformat_minor": 5
}
