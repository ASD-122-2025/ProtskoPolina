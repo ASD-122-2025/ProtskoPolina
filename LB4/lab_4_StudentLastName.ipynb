{
 "cells": [
  {
   "cell_type": "markdown",
   "id": "03f666c8",
   "metadata": {},
   "source": [
    "# Звіт з лабораторної роботи №4"
   ]
  },
  {
   "cell_type": "markdown",
   "id": "bea25d21",
   "metadata": {},
   "source": [
    "Виконав студент групи КН-24-1 Процко П."
   ]
  },
  {
   "cell_type": "markdown",
   "id": "60ad1fee",
   "metadata": {},
   "source": [
    "Тема: Рекурсія. Стратегія «розділяй і володарюй»\n",
    "\n",
    "Мета: засвоїти технологію реалізації рекурсивних алгоритмів засобами Python і оцінювання їх складності з використанням головної теореми рекурсії."
   ]
  },
  {
   "cell_type": "markdown",
   "id": "6754b3e2",
   "metadata": {},
   "source": [
    "### <center>Хід роботи</center>"
   ]
  },
  {
   "cell_type": "markdown",
   "id": "83df096d",
   "metadata": {},
   "source": [
    "1. Реалізував процедуру обчислення факторіалу за допомогою циклу for:"
   ]
  },
  {
   "cell_type": "code",
   "execution_count": null,
   "id": "246482b5",
   "metadata": {},
   "outputs": [],
   "source": [
    "def factorial(n):\n",
    "    result = 1\n",
    "    for i in range(2, n + 1):\n",
    "        result *= i\n",
    "    return result\n",
    "\n",
    "# Приклад використання\n",
    "print(factorial(5))"
   ]
  },
  {
   "cell_type": "markdown",
   "id": "e60f6c8b",
   "metadata": {},
   "source": [
    "2. Асимптотична складність рекурсивного алгоритму обчислення факторіалу: $O(N)$"
   ]
  },
  {
   "cell_type": "code",
   "execution_count": null,
   "id": "2697c745",
   "metadata": {},
   "outputs": [],
   "source": [
    "def fac(n): \n",
    "    if n == 0:\n",
    "        return 1\n",
    "    return fac(n-1) * n\n",
    "\n",
    "# Приклад використання\n",
    "print(fac(5))"
   ]
  },
  {
   "cell_type": "markdown",
   "id": "25fb2a9d",
   "metadata": {},
   "source": [
    "3. Асимптотична складність рекурсивного алгоритму обчислення 𝑛-го числа Фібоначчі: $O(2^N)$"
   ]
  },
  {
   "cell_type": "code",
   "execution_count": null,
   "id": "11d099c9",
   "metadata": {},
   "outputs": [],
   "source": [
    "def fibonacci(n):\n",
    "    if n == 0:\n",
    "        return 0\n",
    "    if n in (1, 2):\n",
    "        return 1\n",
    "    return fibonacci(n - 1) + fibonacci(n - 2)\n",
    "\n",
    "# Приклад використання\n",
    "print(fibonacci(5))"
   ]
  },
  {
   "cell_type": "markdown",
   "id": "9ba11c1f",
   "metadata": {},
   "source": [
    "4. Алгоритм MergeSort має рекурентне рівняння:\n",
    "$T(N)=2T(N/2)+O(N)$\n",
    "\n",
    "За головною теоремою рекурсії:\n",
    "\n",
    "$a=2$, $b=2$, $d=1$\n",
    "\n",
    "$\\log_2 2 = 1$\n",
    "\n",
    "оскільки $d= \\log_b a$, отримуємо $O(N \\log N)$."
   ]
  },
  {
   "cell_type": "code",
   "execution_count": null,
   "id": "20689d92",
   "metadata": {},
   "outputs": [],
   "source": [
    "def merge(left, right):\n",
    "    result = []\n",
    "    i = j = 0\n",
    "    while i < len(left) and j < len(right):\n",
    "        if left[i] < right[j]:\n",
    "            result.append(left[i])\n",
    "            i += 1\n",
    "        else:\n",
    "            result.append(right[j])\n",
    "            j += 1\n",
    "    result.extend(left[i:])\n",
    "    result.extend(right[j:])\n",
    "    return result\n",
    "\n",
    "def merge_sort(lst):\n",
    "    if len(lst) <= 1:\n",
    "        return lst\n",
    "    mid = len(lst) // 2\n",
    "    left = merge_sort(lst[:mid])\n",
    "    right = merge_sort(lst[mid:])\n",
    "    return merge(left, right)\n",
    "\n",
    "# Приклад використання\n",
    "print(merge_sort([5, 2, 9, 1, 5, 6]))"
   ]
  }
 ],
 "metadata": {
  "language_info": {
   "name": "python"
  }
 },
 "nbformat": 4,
 "nbformat_minor": 5
}
 {
   "cell_type": "markdown",
   "id": "2ca94622-795a-4a8b-aa8d-00f2747a46a5",
   "metadata": {},
   "source": [
    "### Відповіді на контрольні питання"
   ]
  },
  {
   "cell_type": "markdown",
   "id": "be8fa65c-0b4d-4cf9-b376-d619d4b4e68f",
   "metadata": {},
   "source": [
    "1. Складність із Ω — це нижня межа часу виконання алгоритму. Формально, $F(N)≥c⋅g(N)$ для $N≥N_0$\n",
    "\n",
    "2. Як записати асимптотичну складність $F(N) = N^3 + 7N^2 - 14N$ у O-нотації?\n",
    "\\\n",
    "Залишаємо найшвидше зростаючий член і відкидаємо константи: $O(N^3)$\n",
    "\n",
    "3. O-нотація для $F(N)=1.01N+N^{10}$\n",
    "\\\n",
    "$𝑂(𝑁^{10})$\n",
    "\n",
    "4. O-нотація для \n",
    "$𝐹(𝑁)=𝑁^{1.3}+ 10\\log_2 𝑁$\n",
    "\\\n",
    "$O(N^{1.3})$\n",
    "\n",
    "5. Розпаралелювання — поділ задачі на частини для одночасного виконання. Використовується для прискорення, особливо в задачах із великими масивами даних (сума, максимум, сортування тощо).\n",
    "\n",
    "6. Підвищення швидкості:\n",
    "- Оптимізація алгоритму\n",
    "- Використання ефективних структур даних\n",
    "- Розпаралелювання\n",
    "- Векторизація\n",
    "- Кешування\n",
    "\\\n",
    "Найефективніший метод — оптимізація алгоритму та розпаралелювання."
   ]
  }
 ],
 "metadata": {
  "kernelspec": {
   "display_name": "Python 3 (ipykernel)",
   "language": "python",
   "name": "python3"
  },
  "language_info": {
   "codemirror_mode": {
    "name": "ipython",
    "version": 3
   },
   "file_extension": ".py",
   "mimetype": "text/x-python",
   "name": "python",
   "nbconvert_exporter": "python",
   "pygments_lexer": "ipython3",
   "version": "3.13.2"
  }
 },
 "nbformat": 4,
 "nbformat_minor": 5
}