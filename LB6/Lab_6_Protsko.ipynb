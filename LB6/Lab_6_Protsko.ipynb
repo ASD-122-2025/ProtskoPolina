{
 "cells": [
  {
   "cell_type": "markdown",
   "id": "35dcf751",
   "metadata": {},
   "source": [
    "# Звіт з лабораторної роботи №6"
   ]
  },
  {
   "cell_type": "markdown",
   "id": "11a96ac2",
   "metadata": {},
   "source": [
    "**Виконав студент групи КН-24-1 Процко П. Д.**"
   ]
  },
  {
   "cell_type": "markdown",
   "id": "6c6e0c6a",
   "metadata": {},
   "source": [
    "## Тема: Структури даних стек і черга\n",
    "**Мета:** засвоїти головні функції та алгоритми роботи зі стеком і чергою засобами Python."
   ]
  },
  {
   "cell_type": "markdown",
   "id": "484d8d2f",
   "metadata": {},
   "source": [
    "### Стек\n",
    "Стек – це базова структура даних, у якій можна тільки вставляти або видаляти елементи на початку стека."
   ]
  },
  {
   "cell_type": "markdown",
   "id": "132d121c",
   "metadata": {},
   "source": [
    "#### Операції зі стеком\n",
    "1. `Stack()` – створює новий пустий стек.\n",
    "2. `push(item)` – додає новий елемент на вершину стека.\n",
    "3. `pop()` – видаляє верхній елемент зі стека.\n",
    "4. `peek()` – повертає верхній елемент стека, але не видаляє його.\n",
    "5. `isEmpty()` – перевіряє стек щодо пустоти.\n",
    "6. `size()` – повертає кількість елементів у стеку."
   ]
  },
  {
   "cell_type": "code",
   "execution_count": null,
   "id": "f313b749",
   "metadata": {},
   "outputs": [],
   "source": [
    "# У стилі ООП\n",
    "class Stack:\n",
    "    def __init__(self):\n",
    "        self.items = []\n",
    "    def isEmpty(self):\n",
    "        return self.items == []\n",
    "    def push(self, item):\n",
    "        self.items.append(item)\n",
    "    def pop(self):\n",
    "        return self.items.pop()\n",
    "    def peek(self):\n",
    "        return self.items[-1]\n",
    "    def size(self):\n",
    "        return len(self.items)"
   ]
  },
  {
   "cell_type": "code",
   "execution_count": null,
   "id": "6f0c9d03",
   "metadata": {},
   "outputs": [],
   "source": [
    "s = Stack()\n",
    "s.push('hello')\n",
    "s.push('true')\n",
    "print(s.pop())  # Виведе: true\n",
    "print(s.pop())  # Виведе: hello"
   ]
  },
  {
   "cell_type": "markdown",
   "id": "6c9203ec",
   "metadata": {},
   "source": [
    "### Черга\n",
    "Черга – це впорядкована колекція елементів, у якій додавання нових елементів відбувається з «хвоста», а видалення — з «голови»."
   ]
  },
  {
   "cell_type": "markdown",
   "id": "6550e0e8",
   "metadata": {},
   "source": [
    "#### Операції з чергою\n",
    "1. `Queue()` – створює нову пусту чергу.\n",
    "2. `enqueue(item)` – додає новий елемент у кінець черги.\n",
    "3. `dequeue()` – видаляє з черги перший елемент.\n",
    "4. `isEmpty()` – перевіряє чергу на пустоту.\n",
    "5. `size()` – повертає кількість елементів у черзі."
   ]
  },
  {
   "cell_type": "code",
   "execution_count": null,
   "id": "2b3a37d7",
   "metadata": {},
   "outputs": [],
   "source": [
    "class Queue:\n",
    "    def __init__(self):\n",
    "        self.items = []\n",
    "    def isEmpty(self):\n",
    "        return self.items == []\n",
    "    def enqueue(self, item):\n",
    "        self.items.insert(0,item)\n",
    "    def dequeue(self):\n",
    "        return self.items.pop()\n",
    "    def size(self):\n",
    "        return len(self.items)"
   ]
  },
  {
   "cell_type": "code",
   "execution_count": null,
   "id": "421a4a63",
   "metadata": {},
   "outputs": [],
   "source": [
    "q = Queue()\n",
    "q.isEmpty()\n",
    "q.enqueue(2)\n",
    "q.isEmpty()\n",
    "print(q.size())  # Виведе: 1\n",
    "print(q.items)   # Виведе: [2]"
   ]
  },
  {
   "cell_type": "markdown",
   "id": "b40798b0",
   "metadata": {},
   "source": [
    "## Завдання для самостійної роботи"
   ]
  },
  {
   "cell_type": "markdown",
   "id": "756c3f30",
   "metadata": {},
   "source": [
    "**1. Написати функцію `pop_n()`, що видаляє елементи стека з його початку до номера n включно.**"
   ]
  },
  {
   "cell_type": "code",
   "execution_count": null,
   "id": "2faa281c",
   "metadata": {},
   "outputs": [],
   "source": [
    "def pop_n(stack, n):\n",
    "    for _ in range(min(n + 1, len(stack))):\n",
    "        stack.pop(0)"
   ]
  },
  {
   "cell_type": "markdown",
   "id": "a025fb8b",
   "metadata": {},
   "source": [
    "**2. Асимптотична складність процедур для стеку:**\n",
    "- `search`: середній і найгірший випадок — O(n)\n",
    "- `insert (push)`: середній і найгірший випадок — O(1)\n",
    "- `delete (pop)`: середній і найгірший випадок — O(1)"
   ]
  },
  {
   "cell_type": "markdown",
   "id": "548ff033",
   "metadata": {},
   "source": [
    "**3. Написати функцію `print_n()`, що друкує елементи черги з його початку до номера n включно.**"
   ]
  },
  {
   "cell_type": "code",
   "execution_count": null,
   "id": "7af4582f",
   "metadata": {},
   "outputs": [],
   "source": [
    "def print_n(queue, n):\n",
    "    for i in range(min(n + 1, len(queue))):\n",
    "        print(queue[i])"
   ]
  },
  {
   "cell_type": "markdown",
   "id": "6ae7f8e7",
   "metadata": {},
   "source": [
    "**4. Асимптотична складність процедур для черги:**\n",
    "- `search`: середній і найгірший випадок — O(n)\n",
    "- `insert (enqueue)`: середній і найгірший випадок — O(1)\n",
    "- `delete (dequeue)`: середній і найгірший випадок — O(1)"
   ]
  },
  {
   "cell_type": "markdown",
   "id": "e349b51f",
   "metadata": {},
   "source": [
    "## Відповіді на контрольні питання\n",
    "**1. Що таке стек і які операції можна виконувати зі стеком?**\n",
    "- Стек — структура даних типу LIFO (останній увійшов — перший вийшов). Операції: створення, додавання, видалення, перегляд, перевірка на пустоту, розмір.\n",
    "\n",
    "**2. Яка основна відмінність між стеком та чергою?**\n",
    "- Стек: LIFO. Черга: FIFO.\n",
    "\n",
    "**3. Реалізація стеку:**\n",
    "- Масив: простий, швидкий доступ, але фіксований розмір.\n",
    "- Зв'язаний список: динамічний розмір, але складніший.\n",
    "\n",
    "**4. Застосування:**\n",
    "- Стек: обробка викликів, Undo, обхід дерев.\n",
    "- Черга: планування задач, обробка запитів, друк документів."
   ]
  }
 ],
 "metadata": {},
 "nbformat": 4,
 "nbformat_minor": 5
}